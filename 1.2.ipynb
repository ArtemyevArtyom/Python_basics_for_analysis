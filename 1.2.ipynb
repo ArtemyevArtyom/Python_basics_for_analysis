{
 "cells": [
  {
   "cell_type": "markdown",
   "id": "3ddea46c",
   "metadata": {},
   "source": [
    "## Задача 2\n",
    "На складе лежат разные фрукты в разном количестве.\n",
    "Нужно написать функцию, которая на вход принимает любое количество названий фруктов и их количество, а возвращает общее количество фруктов на складе"
   ]
  },
  {
   "cell_type": "code",
   "execution_count": 1,
   "id": "f056a68a",
   "metadata": {},
   "outputs": [],
   "source": [
    "def fruits(**kwargs):\n",
    "    {print(f\" {name} In stock: {values} \")\n",
    "     for name, values in kwargs.items()}\n",
    "    return print(f' Total amount of fruit: {sum(kwargs.values())}')"
   ]
  },
  {
   "cell_type": "code",
   "execution_count": 2,
   "id": "994b2d17",
   "metadata": {},
   "outputs": [
    {
     "name": "stdout",
     "output_type": "stream",
     "text": [
      " Apples In stock: 15 \n",
      " Bananas In stock: 7 \n",
      " Pears In stock: 8 \n",
      " Total amount of fruit: 30\n"
     ]
    }
   ],
   "source": [
    "fruits(\n",
    "    Apples = 15,\n",
    "    Bananas = 7,\n",
    "    Pears = 8\n",
    ")"
   ]
  }
 ],
 "metadata": {
  "kernelspec": {
   "display_name": "Python 3 (ipykernel)",
   "language": "python",
   "name": "python3"
  },
  "language_info": {
   "codemirror_mode": {
    "name": "ipython",
    "version": 3
   },
   "file_extension": ".py",
   "mimetype": "text/x-python",
   "name": "python",
   "nbconvert_exporter": "python",
   "pygments_lexer": "ipython3",
   "version": "3.10.9"
  }
 },
 "nbformat": 4,
 "nbformat_minor": 5
}
